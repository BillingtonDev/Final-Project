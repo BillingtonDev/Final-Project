{
 "cells": [
  {
   "cell_type": "markdown",
   "id": "45b96cbe",
   "metadata": {},
   "source": [
    "# **Data 200 - Final Project**\n"
   ]
  },
  {
   "cell_type": "markdown",
   "id": "818236dd",
   "metadata": {},
   "source": [
    "Author:  Aryan Jain"
   ]
  },
  {
   "cell_type": "markdown",
   "id": "ae6703cd",
   "metadata": {},
   "source": [
    "## **Summary Of Contents**\n",
    "\n",
    "### This Final Project conatins the following sections :"
   ]
  },
  {
   "cell_type": "markdown",
   "id": "cd39a30d",
   "metadata": {},
   "source": []
  },
  {
   "cell_type": "code",
   "execution_count": 1,
   "id": "cb55efdb",
   "metadata": {},
   "outputs": [],
   "source": [
    "#Libraries\n",
    "import pandas as pd\n",
    "import numpy as np\n",
    "import matplotlib\n",
    "import matplotlib.pyplot as plt\n",
    "import seaborn as sns\n",
    "from sklearn.linear_model import LinearRegression\n",
    "from sklearn.model_selection import train_test_split\n"
   ]
  }
 ],
 "metadata": {
  "kernelspec": {
   "display_name": "Python 3 (ipykernel)",
   "language": "python",
   "name": "python3"
  },
  "language_info": {
   "codemirror_mode": {
    "name": "ipython",
    "version": 3
   },
   "file_extension": ".py",
   "mimetype": "text/x-python",
   "name": "python",
   "nbconvert_exporter": "python",
   "pygments_lexer": "ipython3",
   "version": "3.11.1"
  }
 },
 "nbformat": 4,
 "nbformat_minor": 5
}
