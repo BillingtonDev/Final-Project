{
 "cells": [
  {
   "cell_type": "markdown",
   "id": "45b96cbe",
   "metadata": {},
   "source": [
    "# **Data 200 - Final Project**"
   ]
  },
  {
   "cell_type": "markdown",
   "id": "818236dd",
   "metadata": {},
   "source": [
    "Author:  Aryan Jain"
   ]
  },
  {
   "cell_type": "markdown",
   "id": "ae6703cd",
   "metadata": {},
   "source": [
    "## **Summary Of Contents**\n",
    "\n",
    "### This Final Project conatins the following sections :"
   ]
  }
 ],
 "metadata": {
  "kernelspec": {
   "display_name": "Python 3 (ipykernel)",
   "language": "python",
   "name": "python3"
  },
  "language_info": {
   "codemirror_mode": {
    "name": "ipython",
    "version": 3
   },
   "file_extension": ".py",
   "mimetype": "text/x-python",
   "name": "python",
   "nbconvert_exporter": "python",
   "pygments_lexer": "ipython3",
   "version": "3.11.6"
  }
 },
 "nbformat": 4,
 "nbformat_minor": 5
}
