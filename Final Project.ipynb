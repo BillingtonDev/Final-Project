{
 "cells": [
  {
   "cell_type": "markdown",
   "id": "45b96cbe",
   "metadata": {},
   "source": [
    "# **Data 200 - Final Project**\n"
   ]
  },
  {
   "cell_type": "markdown",
   "id": "818236dd",
   "metadata": {},
   "source": [
    "Author:  Aryan Jain"
   ]
  },
  {
   "cell_type": "markdown",
   "id": "ae6703cd",
   "metadata": {},
   "source": [
    "## **Summary Of Contents**\n",
    "\n",
    "### This Final Project conatins the following sections :"
   ]
  },
  {
   "cell_type": "markdown",
   "id": "cd39a30d",
   "metadata": {},
   "source": []
  },
  {
   "cell_type": "code",
   "execution_count": 1,
   "id": "cb55efdb",
   "metadata": {},
   "outputs": [],
   "source": [
    "#Libraries\n",
    "import pandas as pd\n",
    "import numpy as np\n",
    "import matplotlib\n",
    "import matplotlib.pyplot as plt\n",
    "import seaborn as sns\n",
    "from sklearn.linear_model import LinearRegression\n",
    "from sklearn.model_selection import train_test_split\n"
   ]
  },
  {
   "cell_type": "code",
   "execution_count": 44,
   "id": "1792fef0",
   "metadata": {},
   "outputs": [],
   "source": [
    "# Import Data\n",
    "df = pd.read_csv('survey_results_public.csv')\n",
    "\n",
    "# Create a new DataFrame with only Python, R, C++ ,and HTML/CSS users\n",
    "df_langs = df[df['LanguageHaveWorkedWith'].str.contains('Python|R|C\\+\\+|HTML/CSS', na=False, regex=True)].dropna(subset='Employment')\n",
    "\n",
    "# Create separate columns for Python, R, C++ , and HTML/CSS\n",
    "df_langs = df_langs.copy()\n",
    "df_langs.loc[:, 'Python'] = df_langs['LanguageHaveWorkedWith'].str.contains('Python').astype(int)\n",
    "df_langs.loc[:, 'R'] = df_langs['LanguageHaveWorkedWith'].str.contains('R').astype(int)\n",
    "df_langs.loc[:, 'C++'] = df_langs['LanguageHaveWorkedWith'].str.contains('C\\+\\+').astype(int)\n",
    "df_langs.loc[:, 'HTML/CSS'] = df_langs['LanguageHaveWorkedWith'].str.contains('HTML/CSS').astype(int)\n"
   ]
  },
  {
   "cell_type": "code",
   "execution_count": 49,
   "id": "e9dedf55",
   "metadata": {},
   "outputs": [],
   "source": [
    "df_langs.loc[:,'EmployStatus'] = df_langs['Employment'].str.contains('Employed|employed', case=False).astype(int)\n",
    "#df_langs.loc[:,'EmployStatus'] = df_langs['Employment'].apply(lambda x: x.str.contains('Employed' ))"
   ]
  },
  {
   "cell_type": "code",
   "execution_count": 46,
   "id": "b7bb7f97",
   "metadata": {},
   "outputs": [],
   "source": [
    "np.random.seed(5)\n",
    "df_langs_model = df_langs.loc[:,['Python', 'C++', 'HTML/CSS','Employment']].dropna()\n",
    "X = df_langs.loc[:,['Python', 'C++', 'HTML/CSS']]\n",
    "y = df_langs['EmployStatus']\n",
    "X.dtypes\n",
    "df_langs_model.head()\n",
    "X_train, X_test, y_train, y_test = train_test_split(X, y, test_size=0.25)"
   ]
  },
  {
   "cell_type": "code",
   "execution_count": 48,
   "id": "f91f14f4",
   "metadata": {},
   "outputs": [
    {
     "data": {
      "image/png": "[encoded data removed]",
      "text/plain": [
       "<Figure size 640x480 with 1 Axes>"
      ]
     },
     "metadata": {},
     "output_type": "display_data"
    }
   ],
   "source": [
    "linear_model = LinearRegression()\n",
    "linear_model.fit(X_train, y_train)\n",
    "y_pred = linear_model.predict(X_test)\n",
    "plt.scatter(y_pred, y_test)\n",
    "plt.show()"
   ]
  }
 ],
 "metadata": {
  "kernelspec": {
   "display_name": "Python 3 (ipykernel)",
   "language": "python",
   "name": "python3"
  },
  "language_info": {
   "codemirror_mode": {
    "name": "ipython",
    "version": 3
   },
   "file_extension": ".py",
   "mimetype": "text/x-python",
   "name": "python",
   "nbconvert_exporter": "python",
   "pygments_lexer": "ipython3",
   "version": "3.11.1"
  }
 },
 "nbformat": 4,
 "nbformat_minor": 5
}
